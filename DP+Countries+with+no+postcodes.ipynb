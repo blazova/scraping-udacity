{
 "cells": [
  {
   "cell_type": "code",
   "execution_count": 156,
   "metadata": {
    "collapsed": true
   },
   "outputs": [],
   "source": [
    "import selenium"
   ]
  },
  {
   "cell_type": "code",
   "execution_count": 157,
   "metadata": {},
   "outputs": [],
   "source": [
    "import json\n",
    "from bs4 import BeautifulSoup\n",
    "from selenium import webdriver\n",
    "from selenium.webdriver.support.ui import WebDriverWait, Select"
   ]
  },
  {
   "cell_type": "code",
   "execution_count": 158,
   "metadata": {
    "scrolled": false
   },
   "outputs": [],
   "source": [
    "browser = webdriver.Chrome()\n",
    "browser.get('https://www.packet.deutschepost.com/group/portal-europe/packet_creation_order')"
   ]
  },
  {
   "cell_type": "code",
   "execution_count": 159,
   "metadata": {
    "collapsed": true
   },
   "outputs": [],
   "source": [
    "browser.find_element_by_id('_login_WAR_cpgmportalportlet_:formLogin:email').send_keys('arthur@revolut.com')"
   ]
  },
  {
   "cell_type": "code",
   "execution_count": 160,
   "metadata": {
    "collapsed": true
   },
   "outputs": [],
   "source": [
    "browser.find_element_by_id('_login_WAR_cpgmportalportlet_:formLogin:password').send_keys('TeamRevolut123!')"
   ]
  },
  {
   "cell_type": "code",
   "execution_count": 161,
   "metadata": {},
   "outputs": [],
   "source": [
    " browser.find_element_by_id('_login_WAR_cpgmportalportlet_:formLogin:btnLogin'\n",
    "\t\t\t\t\t).click()"
   ]
  },
  {
   "cell_type": "code",
   "execution_count": 162,
   "metadata": {
    "collapsed": true
   },
   "outputs": [],
   "source": [
    "browser.get('https://www.packet.deutschepost.com/group/portal-europe/packet_creation_order')"
   ]
  },
  {
   "cell_type": "code",
   "execution_count": 163,
   "metadata": {
    "scrolled": true
   },
   "outputs": [],
   "source": [
    " browser.find_element_by_id('_order_creation_WAR_cpgmmodulegmpacketportlet_:creationOrderPortlet:creationOrderForm:j_idt16:0').click()"
   ]
  },
  {
   "cell_type": "code",
   "execution_count": 164,
   "metadata": {
    "collapsed": true
   },
   "outputs": [],
   "source": [
    " browser.find_element_by_id('_order_creation_WAR_cpgmmodulegmpacketportlet_:creationOrderPortlet:creationOrderForm:creation_selection_next'\n",
    "\t\t\t\t\t).click()"
   ]
  },
  {
   "cell_type": "code",
   "execution_count": 165,
   "metadata": {},
   "outputs": [],
   "source": [
    "#browser.find_element_by_id(\"_order_creation_WAR_cpgmmodulegmpacketportlet_:creationOrderPortlet:creationOrderForm:j_idt116:input\")\n",
    "select = Select(browser.find_element_by_id(\"_order_creation_WAR_cpgmmodulegmpacketportlet_:creationOrderPortlet:creationOrderForm:j_idt116:input\"))\n",
    "#select.select_by_visible_text(\"Argentina\")"
   ]
  },
  {
   "cell_type": "code",
   "execution_count": 166,
   "metadata": {},
   "outputs": [],
   "source": [
    "ahihi = select.options"
   ]
  },
  {
   "cell_type": "code",
   "execution_count": 142,
   "metadata": {},
   "outputs": [
    {
     "data": {
      "text/plain": [
       "'Albania'"
      ]
     },
     "execution_count": 142,
     "metadata": {},
     "output_type": "execute_result"
    }
   ],
   "source": [
    "ahihi[2].text"
   ]
  },
  {
   "cell_type": "code",
   "execution_count": 168,
   "metadata": {},
   "outputs": [
    {
     "name": "stdout",
     "output_type": "stream",
     "text": [
      "['Afghanistan', 'Albania', 'Algeria', 'American Samoa', 'Andorra', 'Anguilla', 'Antarctica', 'Antigua and Barbuda', 'Argentina', 'Armenia', 'Aruba', 'Australia', 'Austria', 'Azerbaijan', 'Bahamas', 'Bahrain', 'Bangladesh', 'Barbados', 'Belarus', 'Belgium', 'Belize', 'Benin', 'Bermuda', 'Bhutan', 'Bolivia', 'Bonaire, Sint Eustatius and Saba', 'Bosnia and Herzegovina', 'Botswana', 'Bouvet Island', 'Brazil', 'British Indian Ocean Territory', 'British Virgin Islands', 'Brunei', 'Bulgaria', 'Burkina Faso', 'Burundi', 'Cambodia', 'Cameroon', 'Canada', 'Cape Verde', 'Cayman Islands', 'Central African Republic', 'Chad', 'Chile', 'China', 'Christmas Island', 'Cocos Islands', 'Colombia', 'Comoros', 'Congo', 'Cook Islands', 'Costa Rica', 'Croatia', 'Curaçao', 'Cyprus', 'Czech Republic', \"Côte d'Ivoire\", 'Denmark', 'Djibouti', 'Dominica', 'Dominican Republic', 'Ecuador', 'Egypt', 'El Salvador', 'Equatorial Guinea', 'Eritrea', 'Estonia', 'Ethiopia', 'Falkland Islands', 'Faroe Islands', 'Fiji', 'Finland', 'France', 'French Guiana', 'French Polynesia', 'French Southern Territories', 'Gabon', 'Gambia', 'Georgia', 'Germany', 'Ghana', 'Gibraltar', 'Greece', 'Greenland', 'Grenada', 'Guadeloupe', 'Guam', 'Guernsey', 'Guinea', 'Guinea-Bissau', 'Guyana', 'Haiti', 'Heard Island And McDonald Islands', 'Honduras', 'Hong Kong', 'Hungary', 'Iceland', 'India', 'Indonesia', 'Iraq', 'Ireland', 'Isle Of Man', 'Israel', 'Italy', 'Jamaica', 'Japan', 'Jersey', 'Jordan', 'Kazakhstan', 'Kenya', 'Kiribati', 'Kuwait', 'Kyrgyzstan', 'Laos', 'Latvia', 'Lebanon', 'Lesotho', 'Liberia', 'Libya', 'Liechtenstein', 'Lithuania', 'Luxembourg', 'Macao', 'Macedonia', 'Madagascar', 'Malawi', 'Malaysia', 'Maldives', 'Mali', 'Malta', 'Marshall Islands', 'Martinique', 'Mauritania', 'Mauritius', 'Mayotte', 'Mexico', 'Micronesia', 'Moldova', 'Monaco', 'Mongolia', 'Montenegro', 'Montserrat', 'Morocco', 'Mozambique', 'Myanmar', 'Namibia', 'Nauru', 'Nepal', 'Netherlands', 'New Caledonia', 'New Zealand', 'Nicaragua', 'Niger', 'Nigeria', 'Niue', 'Norfolk Island', 'Northern Mariana Islands', 'Norway', 'Oman', 'Pakistan', 'Palau', 'Palestine', 'Panama', 'Papua New Guinea', 'Paraguay', 'Peru', 'Philippines', 'Pitcairn', 'Poland', 'Portugal', 'Puerto Rico', 'Qatar', 'Reunion', 'Romania', 'Russia', 'Rwanda', 'Saint Barthélemy', 'Saint Helena', 'Saint Kitts And Nevis', 'Saint Lucia', 'Saint Martin', 'Saint Pierre And Miquelon', 'Saint Vincent And The Grenadines', 'Samoa', 'San Marino', 'Sao Tome And Principe', 'Saudi Arabia', 'Senegal', 'Serbia', 'Seychelles', 'Sierra Leone', 'Singapore', 'Sint Maarten (Dutch part)', 'Slovakia', 'Slovenia', 'Solomon Islands', 'Somalia', 'South Africa', 'South Georgia And The South Sandwich Islands', 'South Korea', 'South Sudan', 'Spain', 'Sri Lanka', 'Sudan', 'Suriname', 'Svalbard And Jan Mayen', 'Swaziland', 'Sweden', 'Switzerland', 'Taiwan', 'Tajikistan', 'Tanzania', 'Thailand', 'The Democratic Republic Of Congo', 'Timor-Leste', 'Togo', 'Tokelau', 'Tonga', 'Trinidad and Tobago', 'Tunisia', 'Turkey', 'Turkmenistan', 'Turks And Caicos Islands', 'Tuvalu', 'U.S. Virgin Islands', 'Uganda', 'Ukraine', 'United Arab Emirates', 'United Kingdom', 'United States', 'United States Minor Outlying Islands', 'Uruguay', 'Uzbekistan', 'Vanuatu', 'Vatican', 'Venezuela', 'Vietnam', 'Wallis And Futuna', 'Western Sahara', 'Zambia', 'Zimbabwe', 'Åland Islands']\n"
     ]
    }
   ],
   "source": [
    "Country_name = [i.text for i in ahihi][1:]\n",
    "print(Country_name)"
   ]
  },
  {
   "cell_type": "code",
   "execution_count": 167,
   "metadata": {},
   "outputs": [
    {
     "data": {
      "text/plain": [
       "['AF',\n",
       " 'AL',\n",
       " 'DZ',\n",
       " 'AS',\n",
       " 'AD',\n",
       " 'AI',\n",
       " 'AQ',\n",
       " 'AG',\n",
       " 'AR',\n",
       " 'AM',\n",
       " 'AW',\n",
       " 'AU',\n",
       " 'AT',\n",
       " 'AZ',\n",
       " 'BS',\n",
       " 'BH',\n",
       " 'BD',\n",
       " 'BB',\n",
       " 'BY',\n",
       " 'BE',\n",
       " 'BZ',\n",
       " 'BJ',\n",
       " 'BM',\n",
       " 'BT',\n",
       " 'BO',\n",
       " 'BQ',\n",
       " 'BA',\n",
       " 'BW',\n",
       " 'BV',\n",
       " 'BR',\n",
       " 'IO',\n",
       " 'VG',\n",
       " 'BN',\n",
       " 'BG',\n",
       " 'BF',\n",
       " 'BI',\n",
       " 'KH',\n",
       " 'CM',\n",
       " 'CA',\n",
       " 'CV',\n",
       " 'KY',\n",
       " 'CF',\n",
       " 'TD',\n",
       " 'CL',\n",
       " 'CN',\n",
       " 'CX',\n",
       " 'CC',\n",
       " 'CO',\n",
       " 'KM',\n",
       " 'CG',\n",
       " 'CK',\n",
       " 'CR',\n",
       " 'HR',\n",
       " 'CW',\n",
       " 'CY',\n",
       " 'CZ',\n",
       " 'CI',\n",
       " 'DK',\n",
       " 'DJ',\n",
       " 'DM',\n",
       " 'DO',\n",
       " 'EC',\n",
       " 'EG',\n",
       " 'SV',\n",
       " 'GQ',\n",
       " 'ER',\n",
       " 'EE',\n",
       " 'ET',\n",
       " 'FK',\n",
       " 'FO',\n",
       " 'FJ',\n",
       " 'FI',\n",
       " 'FR',\n",
       " 'GF',\n",
       " 'PF',\n",
       " 'TF',\n",
       " 'GA',\n",
       " 'GM',\n",
       " 'GE',\n",
       " 'DE',\n",
       " 'GH',\n",
       " 'GI',\n",
       " 'GR',\n",
       " 'GL',\n",
       " 'GD',\n",
       " 'GP',\n",
       " 'GU',\n",
       " 'GG',\n",
       " 'GN',\n",
       " 'GW',\n",
       " 'GY',\n",
       " 'HT',\n",
       " 'HM',\n",
       " 'HN',\n",
       " 'HK',\n",
       " 'HU',\n",
       " 'IS',\n",
       " 'IN',\n",
       " 'ID',\n",
       " 'IQ',\n",
       " 'IE',\n",
       " 'IM',\n",
       " 'IL',\n",
       " 'IT',\n",
       " 'JM',\n",
       " 'JP',\n",
       " 'JE',\n",
       " 'JO',\n",
       " 'KZ',\n",
       " 'KE',\n",
       " 'KI',\n",
       " 'KW',\n",
       " 'KG',\n",
       " 'LA',\n",
       " 'LV',\n",
       " 'LB',\n",
       " 'LS',\n",
       " 'LR',\n",
       " 'LY',\n",
       " 'LI',\n",
       " 'LT',\n",
       " 'LU',\n",
       " 'MO',\n",
       " 'MK',\n",
       " 'MG',\n",
       " 'MW',\n",
       " 'MY',\n",
       " 'MV',\n",
       " 'ML',\n",
       " 'MT',\n",
       " 'MH',\n",
       " 'MQ',\n",
       " 'MR',\n",
       " 'MU',\n",
       " 'YT',\n",
       " 'MX',\n",
       " 'FM',\n",
       " 'MD',\n",
       " 'MC',\n",
       " 'MN',\n",
       " 'ME',\n",
       " 'MS',\n",
       " 'MA',\n",
       " 'MZ',\n",
       " 'MM',\n",
       " 'NA',\n",
       " 'NR',\n",
       " 'NP',\n",
       " 'NL',\n",
       " 'NC',\n",
       " 'NZ',\n",
       " 'NI',\n",
       " 'NE',\n",
       " 'NG',\n",
       " 'NU',\n",
       " 'NF',\n",
       " 'MP',\n",
       " 'NO',\n",
       " 'OM',\n",
       " 'PK',\n",
       " 'PW',\n",
       " 'PS',\n",
       " 'PA',\n",
       " 'PG',\n",
       " 'PY',\n",
       " 'PE',\n",
       " 'PH',\n",
       " 'PN',\n",
       " 'PL',\n",
       " 'PT',\n",
       " 'PR',\n",
       " 'QA',\n",
       " 'RE',\n",
       " 'RO',\n",
       " 'RU',\n",
       " 'RW',\n",
       " 'BL',\n",
       " 'SH',\n",
       " 'KN',\n",
       " 'LC',\n",
       " 'MF',\n",
       " 'PM',\n",
       " 'VC',\n",
       " 'WS',\n",
       " 'SM',\n",
       " 'ST',\n",
       " 'SA',\n",
       " 'SN',\n",
       " 'RS',\n",
       " 'SC',\n",
       " 'SL',\n",
       " 'SG',\n",
       " 'SX',\n",
       " 'SK',\n",
       " 'SI',\n",
       " 'SB',\n",
       " 'SO',\n",
       " 'ZA',\n",
       " 'GS',\n",
       " 'KR',\n",
       " 'SS',\n",
       " 'ES',\n",
       " 'LK',\n",
       " 'SD',\n",
       " 'SR',\n",
       " 'SJ',\n",
       " 'SZ',\n",
       " 'SE',\n",
       " 'CH',\n",
       " 'TW',\n",
       " 'TJ',\n",
       " 'TZ',\n",
       " 'TH',\n",
       " 'CD',\n",
       " 'TL',\n",
       " 'TG',\n",
       " 'TK',\n",
       " 'TO',\n",
       " 'TT',\n",
       " 'TN',\n",
       " 'TR',\n",
       " 'TM',\n",
       " 'TC',\n",
       " 'TV',\n",
       " 'VI',\n",
       " 'UG',\n",
       " 'UA',\n",
       " 'AE',\n",
       " 'GB',\n",
       " 'US',\n",
       " 'UM',\n",
       " 'UY',\n",
       " 'UZ',\n",
       " 'VU',\n",
       " 'VA',\n",
       " 'VE',\n",
       " 'VN',\n",
       " 'WF',\n",
       " 'EH',\n",
       " 'ZM',\n",
       " 'ZW',\n",
       " 'AX']"
      ]
     },
     "execution_count": 167,
     "metadata": {},
     "output_type": "execute_result"
    }
   ],
   "source": [
    "Country_code = [i.get_attribute('value') for i in ahihi][1:]\n",
    "Country_code"
   ]
  },
  {
   "cell_type": "code",
   "execution_count": 171,
   "metadata": {},
   "outputs": [
    {
     "data": {
      "text/plain": [
       "242"
      ]
     },
     "execution_count": 171,
     "metadata": {},
     "output_type": "execute_result"
    }
   ],
   "source": [
    "my_dic=dict(zip(Country_name, Country_code))\n",
    "len(my_dic)"
   ]
  },
  {
   "cell_type": "code",
   "execution_count": 173,
   "metadata": {},
   "outputs": [
    {
     "name": "stdout",
     "output_type": "stream",
     "text": [
      "['AF']\n",
      "['AF', 'AL']\n",
      "['AF', 'AL', 'DZ']\n",
      "['AF', 'AL', 'DZ', 'AS']\n",
      "['AF', 'AL', 'DZ', 'AS', 'AQ']\n",
      "['AF', 'AL', 'DZ', 'AS', 'AQ', 'AU']\n",
      "['AF', 'AL', 'DZ', 'AS', 'AQ', 'AU', 'BH']\n",
      "['AF', 'AL', 'DZ', 'AS', 'AQ', 'AU', 'BH', 'BD']\n",
      "['AF', 'AL', 'DZ', 'AS', 'AQ', 'AU', 'BH', 'BD', 'BY']\n",
      "['AF', 'AL', 'DZ', 'AS', 'AQ', 'AU', 'BH', 'BD', 'BY', 'MN']\n",
      "['AF', 'AL', 'DZ', 'AS', 'AQ', 'AU', 'BH', 'BD', 'BY', 'MN', 'ME']\n",
      "['AF', 'AL', 'DZ', 'AS', 'AQ', 'AU', 'BH', 'BD', 'BY', 'MN', 'ME', 'MA']\n",
      "['AF', 'AL', 'DZ', 'AS', 'AQ', 'AU', 'BH', 'BD', 'BY', 'MN', 'ME', 'MA', 'NR']\n",
      "['AF', 'AL', 'DZ', 'AS', 'AQ', 'AU', 'BH', 'BD', 'BY', 'MN', 'ME', 'MA', 'NR', 'NP']\n",
      "['AF', 'AL', 'DZ', 'AS', 'AQ', 'AU', 'BH', 'BD', 'BY', 'MN', 'ME', 'MA', 'NR', 'NP', 'NC']\n",
      "['AF', 'AL', 'DZ', 'AS', 'AQ', 'AU', 'BH', 'BD', 'BY', 'MN', 'ME', 'MA', 'NR', 'NP', 'NC', 'NZ']\n",
      "['AF', 'AL', 'DZ', 'AS', 'AQ', 'AU', 'BH', 'BD', 'BY', 'MN', 'ME', 'MA', 'NR', 'NP', 'NC', 'NZ', 'NI']\n",
      "['AF', 'AL', 'DZ', 'AS', 'AQ', 'AU', 'BH', 'BD', 'BY', 'MN', 'ME', 'MA', 'NR', 'NP', 'NC', 'NZ', 'NI', 'NU']\n",
      "['AF', 'AL', 'DZ', 'AS', 'AQ', 'AU', 'BH', 'BD', 'BY', 'MN', 'ME', 'MA', 'NR', 'NP', 'NC', 'NZ', 'NI', 'NU', 'NF']\n",
      "['AF', 'AL', 'DZ', 'AS', 'AQ', 'AU', 'BH', 'BD', 'BY', 'MN', 'ME', 'MA', 'NR', 'NP', 'NC', 'NZ', 'NI', 'NU', 'NF', 'PK']\n",
      "['AF', 'AL', 'DZ', 'AS', 'AQ', 'AU', 'BH', 'BD', 'BY', 'MN', 'ME', 'MA', 'NR', 'NP', 'NC', 'NZ', 'NI', 'NU', 'NF', 'PK', 'PW']\n",
      "['AF', 'AL', 'DZ', 'AS', 'AQ', 'AU', 'BH', 'BD', 'BY', 'MN', 'ME', 'MA', 'NR', 'NP', 'NC', 'NZ', 'NI', 'NU', 'NF', 'PK', 'PW', 'PS']\n",
      "['AF', 'AL', 'DZ', 'AS', 'AQ', 'AU', 'BH', 'BD', 'BY', 'MN', 'ME', 'MA', 'NR', 'NP', 'NC', 'NZ', 'NI', 'NU', 'NF', 'PK', 'PW', 'PS', 'PA']\n",
      "['AF', 'AL', 'DZ', 'AS', 'AQ', 'AU', 'BH', 'BD', 'BY', 'MN', 'ME', 'MA', 'NR', 'NP', 'NC', 'NZ', 'NI', 'NU', 'NF', 'PK', 'PW', 'PS', 'PA', 'PG']\n",
      "['AF', 'AL', 'DZ', 'AS', 'AQ', 'AU', 'BH', 'BD', 'BY', 'MN', 'ME', 'MA', 'NR', 'NP', 'NC', 'NZ', 'NI', 'NU', 'NF', 'PK', 'PW', 'PS', 'PA', 'PG', 'PY']\n",
      "['AF', 'AL', 'DZ', 'AS', 'AQ', 'AU', 'BH', 'BD', 'BY', 'MN', 'ME', 'MA', 'NR', 'NP', 'NC', 'NZ', 'NI', 'NU', 'NF', 'PK', 'PW', 'PS', 'PA', 'PG', 'PY', 'PE']\n",
      "['AF', 'AL', 'DZ', 'AS', 'AQ', 'AU', 'BH', 'BD', 'BY', 'MN', 'ME', 'MA', 'NR', 'NP', 'NC', 'NZ', 'NI', 'NU', 'NF', 'PK', 'PW', 'PS', 'PA', 'PG', 'PY', 'PE', 'PN']\n",
      "['AF', 'AL', 'DZ', 'AS', 'AQ', 'AU', 'BH', 'BD', 'BY', 'MN', 'ME', 'MA', 'NR', 'NP', 'NC', 'NZ', 'NI', 'NU', 'NF', 'PK', 'PW', 'PS', 'PA', 'PG', 'PY', 'PE', 'PN', 'PL']\n",
      "['AF', 'AL', 'DZ', 'AS', 'AQ', 'AU', 'BH', 'BD', 'BY', 'MN', 'ME', 'MA', 'NR', 'NP', 'NC', 'NZ', 'NI', 'NU', 'NF', 'PK', 'PW', 'PS', 'PA', 'PG', 'PY', 'PE', 'PN', 'PL', 'PR']\n",
      "['AF', 'AL', 'DZ', 'AS', 'AQ', 'AU', 'BH', 'BD', 'BY', 'MN', 'ME', 'MA', 'NR', 'NP', 'NC', 'NZ', 'NI', 'NU', 'NF', 'PK', 'PW', 'PS', 'PA', 'PG', 'PY', 'PE', 'PN', 'PL', 'PR', 'QA']\n",
      "['AF', 'AL', 'DZ', 'AS', 'AQ', 'AU', 'BH', 'BD', 'BY', 'MN', 'ME', 'MA', 'NR', 'NP', 'NC', 'NZ', 'NI', 'NU', 'NF', 'PK', 'PW', 'PS', 'PA', 'PG', 'PY', 'PE', 'PN', 'PL', 'PR', 'QA', 'RW']\n",
      "['AF', 'AL', 'DZ', 'AS', 'AQ', 'AU', 'BH', 'BD', 'BY', 'MN', 'ME', 'MA', 'NR', 'NP', 'NC', 'NZ', 'NI', 'NU', 'NF', 'PK', 'PW', 'PS', 'PA', 'PG', 'PY', 'PE', 'PN', 'PL', 'PR', 'QA', 'RW', 'BL']\n",
      "['AF', 'AL', 'DZ', 'AS', 'AQ', 'AU', 'BH', 'BD', 'BY', 'MN', 'ME', 'MA', 'NR', 'NP', 'NC', 'NZ', 'NI', 'NU', 'NF', 'PK', 'PW', 'PS', 'PA', 'PG', 'PY', 'PE', 'PN', 'PL', 'PR', 'QA', 'RW', 'BL', 'KN']\n",
      "['AF', 'AL', 'DZ', 'AS', 'AQ', 'AU', 'BH', 'BD', 'BY', 'MN', 'ME', 'MA', 'NR', 'NP', 'NC', 'NZ', 'NI', 'NU', 'NF', 'PK', 'PW', 'PS', 'PA', 'PG', 'PY', 'PE', 'PN', 'PL', 'PR', 'QA', 'RW', 'BL', 'KN', 'PM']\n",
      "['AF', 'AL', 'DZ', 'AS', 'AQ', 'AU', 'BH', 'BD', 'BY', 'MN', 'ME', 'MA', 'NR', 'NP', 'NC', 'NZ', 'NI', 'NU', 'NF', 'PK', 'PW', 'PS', 'PA', 'PG', 'PY', 'PE', 'PN', 'PL', 'PR', 'QA', 'RW', 'BL', 'KN', 'PM', 'SA']\n",
      "['AF', 'AL', 'DZ', 'AS', 'AQ', 'AU', 'BH', 'BD', 'BY', 'MN', 'ME', 'MA', 'NR', 'NP', 'NC', 'NZ', 'NI', 'NU', 'NF', 'PK', 'PW', 'PS', 'PA', 'PG', 'PY', 'PE', 'PN', 'PL', 'PR', 'QA', 'RW', 'BL', 'KN', 'PM', 'SA', 'SN']\n",
      "['AF', 'AL', 'DZ', 'AS', 'AQ', 'AU', 'BH', 'BD', 'BY', 'MN', 'ME', 'MA', 'NR', 'NP', 'NC', 'NZ', 'NI', 'NU', 'NF', 'PK', 'PW', 'PS', 'PA', 'PG', 'PY', 'PE', 'PN', 'PL', 'PR', 'QA', 'RW', 'BL', 'KN', 'PM', 'SA', 'SN', 'SC']\n",
      "['AF', 'AL', 'DZ', 'AS', 'AQ', 'AU', 'BH', 'BD', 'BY', 'MN', 'ME', 'MA', 'NR', 'NP', 'NC', 'NZ', 'NI', 'NU', 'NF', 'PK', 'PW', 'PS', 'PA', 'PG', 'PY', 'PE', 'PN', 'PL', 'PR', 'QA', 'RW', 'BL', 'KN', 'PM', 'SA', 'SN', 'SC', 'SL']\n",
      "['AF', 'AL', 'DZ', 'AS', 'AQ', 'AU', 'BH', 'BD', 'BY', 'MN', 'ME', 'MA', 'NR', 'NP', 'NC', 'NZ', 'NI', 'NU', 'NF', 'PK', 'PW', 'PS', 'PA', 'PG', 'PY', 'PE', 'PN', 'PL', 'PR', 'QA', 'RW', 'BL', 'KN', 'PM', 'SA', 'SN', 'SC', 'SL', 'SS']\n",
      "['AF', 'AL', 'DZ', 'AS', 'AQ', 'AU', 'BH', 'BD', 'BY', 'MN', 'ME', 'MA', 'NR', 'NP', 'NC', 'NZ', 'NI', 'NU', 'NF', 'PK', 'PW', 'PS', 'PA', 'PG', 'PY', 'PE', 'PN', 'PL', 'PR', 'QA', 'RW', 'BL', 'KN', 'PM', 'SA', 'SN', 'SC', 'SL', 'SS', 'ES']\n",
      "['AF', 'AL', 'DZ', 'AS', 'AQ', 'AU', 'BH', 'BD', 'BY', 'MN', 'ME', 'MA', 'NR', 'NP', 'NC', 'NZ', 'NI', 'NU', 'NF', 'PK', 'PW', 'PS', 'PA', 'PG', 'PY', 'PE', 'PN', 'PL', 'PR', 'QA', 'RW', 'BL', 'KN', 'PM', 'SA', 'SN', 'SC', 'SL', 'SS', 'ES', 'SD']\n",
      "['AF', 'AL', 'DZ', 'AS', 'AQ', 'AU', 'BH', 'BD', 'BY', 'MN', 'ME', 'MA', 'NR', 'NP', 'NC', 'NZ', 'NI', 'NU', 'NF', 'PK', 'PW', 'PS', 'PA', 'PG', 'PY', 'PE', 'PN', 'PL', 'PR', 'QA', 'RW', 'BL', 'KN', 'PM', 'SA', 'SN', 'SC', 'SL', 'SS', 'ES', 'SD', 'SR']\n",
      "['AF', 'AL', 'DZ', 'AS', 'AQ', 'AU', 'BH', 'BD', 'BY', 'MN', 'ME', 'MA', 'NR', 'NP', 'NC', 'NZ', 'NI', 'NU', 'NF', 'PK', 'PW', 'PS', 'PA', 'PG', 'PY', 'PE', 'PN', 'PL', 'PR', 'QA', 'RW', 'BL', 'KN', 'PM', 'SA', 'SN', 'SC', 'SL', 'SS', 'ES', 'SD', 'SR', 'SJ']\n",
      "['AF', 'AL', 'DZ', 'AS', 'AQ', 'AU', 'BH', 'BD', 'BY', 'MN', 'ME', 'MA', 'NR', 'NP', 'NC', 'NZ', 'NI', 'NU', 'NF', 'PK', 'PW', 'PS', 'PA', 'PG', 'PY', 'PE', 'PN', 'PL', 'PR', 'QA', 'RW', 'BL', 'KN', 'PM', 'SA', 'SN', 'SC', 'SL', 'SS', 'ES', 'SD', 'SR', 'SJ', 'CH']\n",
      "['AF', 'AL', 'DZ', 'AS', 'AQ', 'AU', 'BH', 'BD', 'BY', 'MN', 'ME', 'MA', 'NR', 'NP', 'NC', 'NZ', 'NI', 'NU', 'NF', 'PK', 'PW', 'PS', 'PA', 'PG', 'PY', 'PE', 'PN', 'PL', 'PR', 'QA', 'RW', 'BL', 'KN', 'PM', 'SA', 'SN', 'SC', 'SL', 'SS', 'ES', 'SD', 'SR', 'SJ', 'CH', 'TG']\n",
      "['AF', 'AL', 'DZ', 'AS', 'AQ', 'AU', 'BH', 'BD', 'BY', 'MN', 'ME', 'MA', 'NR', 'NP', 'NC', 'NZ', 'NI', 'NU', 'NF', 'PK', 'PW', 'PS', 'PA', 'PG', 'PY', 'PE', 'PN', 'PL', 'PR', 'QA', 'RW', 'BL', 'KN', 'PM', 'SA', 'SN', 'SC', 'SL', 'SS', 'ES', 'SD', 'SR', 'SJ', 'CH', 'TG', 'TT']\n",
      "['AF', 'AL', 'DZ', 'AS', 'AQ', 'AU', 'BH', 'BD', 'BY', 'MN', 'ME', 'MA', 'NR', 'NP', 'NC', 'NZ', 'NI', 'NU', 'NF', 'PK', 'PW', 'PS', 'PA', 'PG', 'PY', 'PE', 'PN', 'PL', 'PR', 'QA', 'RW', 'BL', 'KN', 'PM', 'SA', 'SN', 'SC', 'SL', 'SS', 'ES', 'SD', 'SR', 'SJ', 'CH', 'TG', 'TT', 'TR']\n",
      "['AF', 'AL', 'DZ', 'AS', 'AQ', 'AU', 'BH', 'BD', 'BY', 'MN', 'ME', 'MA', 'NR', 'NP', 'NC', 'NZ', 'NI', 'NU', 'NF', 'PK', 'PW', 'PS', 'PA', 'PG', 'PY', 'PE', 'PN', 'PL', 'PR', 'QA', 'RW', 'BL', 'KN', 'PM', 'SA', 'SN', 'SC', 'SL', 'SS', 'ES', 'SD', 'SR', 'SJ', 'CH', 'TG', 'TT', 'TR', 'TC']\n",
      "['AF', 'AL', 'DZ', 'AS', 'AQ', 'AU', 'BH', 'BD', 'BY', 'MN', 'ME', 'MA', 'NR', 'NP', 'NC', 'NZ', 'NI', 'NU', 'NF', 'PK', 'PW', 'PS', 'PA', 'PG', 'PY', 'PE', 'PN', 'PL', 'PR', 'QA', 'RW', 'BL', 'KN', 'PM', 'SA', 'SN', 'SC', 'SL', 'SS', 'ES', 'SD', 'SR', 'SJ', 'CH', 'TG', 'TT', 'TR', 'TC', 'TV']\n",
      "['AF', 'AL', 'DZ', 'AS', 'AQ', 'AU', 'BH', 'BD', 'BY', 'MN', 'ME', 'MA', 'NR', 'NP', 'NC', 'NZ', 'NI', 'NU', 'NF', 'PK', 'PW', 'PS', 'PA', 'PG', 'PY', 'PE', 'PN', 'PL', 'PR', 'QA', 'RW', 'BL', 'KN', 'PM', 'SA', 'SN', 'SC', 'SL', 'SS', 'ES', 'SD', 'SR', 'SJ', 'CH', 'TG', 'TT', 'TR', 'TC', 'TV', 'VI']\n",
      "['AF', 'AL', 'DZ', 'AS', 'AQ', 'AU', 'BH', 'BD', 'BY', 'MN', 'ME', 'MA', 'NR', 'NP', 'NC', 'NZ', 'NI', 'NU', 'NF', 'PK', 'PW', 'PS', 'PA', 'PG', 'PY', 'PE', 'PN', 'PL', 'PR', 'QA', 'RW', 'BL', 'KN', 'PM', 'SA', 'SN', 'SC', 'SL', 'SS', 'ES', 'SD', 'SR', 'SJ', 'CH', 'TG', 'TT', 'TR', 'TC', 'TV', 'VI', 'UG']\n",
      "['AF', 'AL', 'DZ', 'AS', 'AQ', 'AU', 'BH', 'BD', 'BY', 'MN', 'ME', 'MA', 'NR', 'NP', 'NC', 'NZ', 'NI', 'NU', 'NF', 'PK', 'PW', 'PS', 'PA', 'PG', 'PY', 'PE', 'PN', 'PL', 'PR', 'QA', 'RW', 'BL', 'KN', 'PM', 'SA', 'SN', 'SC', 'SL', 'SS', 'ES', 'SD', 'SR', 'SJ', 'CH', 'TG', 'TT', 'TR', 'TC', 'TV', 'VI', 'UG', 'GB']\n"
     ]
    },
    {
     "name": "stdout",
     "output_type": "stream",
     "text": [
      "['AF', 'AL', 'DZ', 'AS', 'AQ', 'AU', 'BH', 'BD', 'BY', 'MN', 'ME', 'MA', 'NR', 'NP', 'NC', 'NZ', 'NI', 'NU', 'NF', 'PK', 'PW', 'PS', 'PA', 'PG', 'PY', 'PE', 'PN', 'PL', 'PR', 'QA', 'RW', 'BL', 'KN', 'PM', 'SA', 'SN', 'SC', 'SL', 'SS', 'ES', 'SD', 'SR', 'SJ', 'CH', 'TG', 'TT', 'TR', 'TC', 'TV', 'VI', 'UG', 'GB', 'UM']\n",
      "['AF', 'AL', 'DZ', 'AS', 'AQ', 'AU', 'BH', 'BD', 'BY', 'MN', 'ME', 'MA', 'NR', 'NP', 'NC', 'NZ', 'NI', 'NU', 'NF', 'PK', 'PW', 'PS', 'PA', 'PG', 'PY', 'PE', 'PN', 'PL', 'PR', 'QA', 'RW', 'BL', 'KN', 'PM', 'SA', 'SN', 'SC', 'SL', 'SS', 'ES', 'SD', 'SR', 'SJ', 'CH', 'TG', 'TT', 'TR', 'TC', 'TV', 'VI', 'UG', 'GB', 'UM', 'UY']\n",
      "['AF', 'AL', 'DZ', 'AS', 'AQ', 'AU', 'BH', 'BD', 'BY', 'MN', 'ME', 'MA', 'NR', 'NP', 'NC', 'NZ', 'NI', 'NU', 'NF', 'PK', 'PW', 'PS', 'PA', 'PG', 'PY', 'PE', 'PN', 'PL', 'PR', 'QA', 'RW', 'BL', 'KN', 'PM', 'SA', 'SN', 'SC', 'SL', 'SS', 'ES', 'SD', 'SR', 'SJ', 'CH', 'TG', 'TT', 'TR', 'TC', 'TV', 'VI', 'UG', 'GB', 'UM', 'UY', 'UZ']\n",
      "['AF', 'AL', 'DZ', 'AS', 'AQ', 'AU', 'BH', 'BD', 'BY', 'MN', 'ME', 'MA', 'NR', 'NP', 'NC', 'NZ', 'NI', 'NU', 'NF', 'PK', 'PW', 'PS', 'PA', 'PG', 'PY', 'PE', 'PN', 'PL', 'PR', 'QA', 'RW', 'BL', 'KN', 'PM', 'SA', 'SN', 'SC', 'SL', 'SS', 'ES', 'SD', 'SR', 'SJ', 'CH', 'TG', 'TT', 'TR', 'TC', 'TV', 'VI', 'UG', 'GB', 'UM', 'UY', 'UZ', 'WF']\n",
      "['AF', 'AL', 'DZ', 'AS', 'AQ', 'AU', 'BH', 'BD', 'BY', 'MN', 'ME', 'MA', 'NR', 'NP', 'NC', 'NZ', 'NI', 'NU', 'NF', 'PK', 'PW', 'PS', 'PA', 'PG', 'PY', 'PE', 'PN', 'PL', 'PR', 'QA', 'RW', 'BL', 'KN', 'PM', 'SA', 'SN', 'SC', 'SL', 'SS', 'ES', 'SD', 'SR', 'SJ', 'CH', 'TG', 'TT', 'TR', 'TC', 'TV', 'VI', 'UG', 'GB', 'UM', 'UY', 'UZ', 'WF', 'ZM']\n",
      "['AF', 'AL', 'DZ', 'AS', 'AQ', 'AU', 'BH', 'BD', 'BY', 'MN', 'ME', 'MA', 'NR', 'NP', 'NC', 'NZ', 'NI', 'NU', 'NF', 'PK', 'PW', 'PS', 'PA', 'PG', 'PY', 'PE', 'PN', 'PL', 'PR', 'QA', 'RW', 'BL', 'KN', 'PM', 'SA', 'SN', 'SC', 'SL', 'SS', 'ES', 'SD', 'SR', 'SJ', 'CH', 'TG', 'TT', 'TR', 'TC', 'TV', 'VI', 'UG', 'GB', 'UM', 'UY', 'UZ', 'WF', 'ZM', 'AX']\n"
     ]
    }
   ],
   "source": [
    "Countries_with_no_postal_code = []\n",
    "for elt in my_dic:\n",
    "    select = Select(browser.find_element_by_id(\"_order_creation_WAR_cpgmmodulegmpacketportlet_:creationOrderPortlet:creationOrderForm:j_idt116:input\"))\n",
    "    select.select_by_visible_text(elt)\n",
    "    \n",
    "    try:\n",
    "        select2 = browser.find_element_by_id('_order_creation_WAR_cpgmmodulegmpacketportlet_:creationOrderPortlet:creationOrderForm:destinationPostalCodeInput:label').text \n",
    "    except:\n",
    "        try:\n",
    "            select2 = browser.find_element_by_id('_order_creation_WAR_cpgmmodulegmpacketportlet_:creationOrderPortlet:creationOrderForm:destinationPostalCodeInput:label').text \n",
    "        except:\n",
    "            select2 = browser.find_element_by_id('_order_creation_WAR_cpgmmodulegmpacketportlet_:creationOrderPortlet:creationOrderForm:destinationPostalCodeInput:label').text \n",
    "    if '*' not in select2:\n",
    "        Countries_with_no_postal_code.append(my_dic[elt])\n",
    "        print(Countries_with_no_postal_code)\n",
    "        #Postal_code[elt]=select2.text\n",
    "        \n",
    "    \n",
    "                    \n",
    "                    \n",
    "                    \n",
    "                    \n",
    "                    "
   ]
  },
  {
   "cell_type": "code",
   "execution_count": 180,
   "metadata": {},
   "outputs": [
    {
     "data": {
      "text/plain": [
       "58"
      ]
     },
     "execution_count": 180,
     "metadata": {},
     "output_type": "execute_result"
    }
   ],
   "source": [
    "len(Countries_with_no_postal_code)"
   ]
  },
  {
   "cell_type": "code",
   "execution_count": 96,
   "metadata": {
    "scrolled": false
   },
   "outputs": [],
   "source": [
    "select2 = browser.find_element_by_id('_order_creation_WAR_cpgmmodulegmpacketportlet_:creationOrderPortlet:creationOrderForm:destinationPostalCodeInput:label')\n"
   ]
  },
  {
   "cell_type": "code",
   "execution_count": 80,
   "metadata": {},
   "outputs": [
    {
     "name": "stdout",
     "output_type": "stream",
     "text": [
      "Postal code\n"
     ]
    }
   ],
   "source": [
    "print(select2.text)"
   ]
  },
  {
   "cell_type": "code",
   "execution_count": 81,
   "metadata": {
    "collapsed": true
   },
   "outputs": [],
   "source": [
    "Postal_code = {}\n",
    "\n"
   ]
  },
  {
   "cell_type": "code",
   "execution_count": 82,
   "metadata": {},
   "outputs": [
    {
     "name": "stdout",
     "output_type": "stream",
     "text": [
      "Afghanistan\n"
     ]
    }
   ],
   "source": [
    "elt=Country_name[0]\n",
    "print(elt)"
   ]
  },
  {
   "cell_type": "code",
   "execution_count": 83,
   "metadata": {
    "collapsed": true
   },
   "outputs": [],
   "source": [
    "select = Select(browser.find_element_by_id(\"_order_creation_WAR_cpgmmodulegmpacketportlet_:creationOrderPortlet:creationOrderForm:j_idt116:input\"))\n",
    "select.select_by_visible_text(elt)\n",
    "\n",
    "select2 = browser.find_element_by_id('_order_creation_WAR_cpgmmodulegmpacketportlet_:creationOrderPortlet:creationOrderForm:destinationPostalCodeInput:label')\n",
    "Postal_code[elt]=select2.text\n"
   ]
  },
  {
   "cell_type": "code",
   "execution_count": 84,
   "metadata": {
    "collapsed": true
   },
   "outputs": [],
   "source": [
    "select2 = browser.find_element_by_id('_order_creation_WAR_cpgmmodulegmpacketportlet_:creationOrderPortlet:creationOrderForm:destinationPostalCodeInput:label')\n",
    "Postal_code[elt]=select2.text"
   ]
  },
  {
   "cell_type": "code",
   "execution_count": 85,
   "metadata": {},
   "outputs": [
    {
     "data": {
      "text/plain": [
       "{'Afghanistan': 'Postal code'}"
      ]
     },
     "execution_count": 85,
     "metadata": {},
     "output_type": "execute_result"
    }
   ],
   "source": [
    "Postal_code"
   ]
  },
  {
   "cell_type": "code",
   "execution_count": 179,
   "metadata": {},
   "outputs": [
    {
     "name": "stdout",
     "output_type": "stream",
     "text": [
      "['AF', 'AL', 'DZ', 'AS', 'AQ', 'AU', 'BH', 'BD', 'BY', 'MN', 'ME', 'MA', 'NR', 'NP', 'NC', 'NZ', 'NI', 'NU', 'NF', 'PK', 'PW', 'PS', 'PA', 'PG', 'PY', 'PE', 'PN', 'PL', 'PR', 'QA', 'RW', 'BL', 'KN', 'PM', 'SA', 'SN', 'SC', 'SL', 'SS', 'ES', 'SD', 'SR', 'SJ', 'CH', 'TG', 'TT', 'TR', 'TC', 'TV', 'VI', 'UG', 'GB', 'UM', 'UY', 'UZ', 'WF', 'ZM', 'AX']\n"
     ]
    }
   ],
   "source": [
    "print(Countries_with_no_postal_code)"
   ]
  },
  {
   "cell_type": "code",
   "execution_count": 176,
   "metadata": {},
   "outputs": [],
   "source": [
    "dhl = ['AF', 'AL', 'AS', 'AO', 'AI', 'AG', 'AW', 'BS', 'BH', 'BB', 'BZ', 'BJ', 'BM', 'BT', 'BO', 'XB', 'BW', 'BF', 'BI', 'CM', 'CV', 'KY', 'CF', 'TD', 'CL', 'KM', 'CG', 'CD', 'CK', 'CR', 'CI', 'XC', 'DJ', 'DM', 'DO', 'EG', 'SV', 'GQ', 'ER', 'ET', 'FK', 'FJ', 'GA', 'GM', 'GH', 'GI', 'GD', 'GT', 'GW', 'GN', 'GY', 'HT', 'HN', 'HK', 'IR', 'IQ', 'IE', 'JM', 'JO', 'KE', 'KI', 'KP', 'KW', 'LA', 'LB', 'LS', 'LR', 'LY', 'MO', 'MW', 'ML', 'MT', 'MR', 'MU', 'MS', 'MZ', 'MM', 'NA', 'NR', 'NP', 'XN', 'NI', 'NE', 'NG', 'NU', 'OM', 'PA', 'PY', 'PE', 'QA', 'RW', 'SH', 'WS', 'ST', 'SA', 'SN', 'SC', 'SL', 'SB', 'SO', 'XS', 'SS', 'LK', 'XE', 'KN', 'LC', 'XM', 'VC', 'SD', 'SR', 'SY', 'PF', 'TZ', 'TL', 'TG', 'TO', 'TT', 'TC', 'TV', 'UG', 'AE', 'UY', 'VU', 'VE', 'VN', 'VG', 'YE', 'ZM', 'ZW']"
   ]
  },
  {
   "cell_type": "code",
   "execution_count": 177,
   "metadata": {
    "collapsed": true
   },
   "outputs": [],
   "source": [
    "fedex = ['AF',\n",
    " 'AL',\n",
    " 'DZ',\n",
    " 'AD',\n",
    " 'AO',\n",
    " 'AI',\n",
    " 'AG',\n",
    " 'AR',\n",
    " 'AM',\n",
    " 'AW',\n",
    " 'AZ',\n",
    " 'BS',\n",
    " 'BH',\n",
    " 'BD',\n",
    " 'BB',\n",
    " 'BAR:AG',\n",
    " 'BY',\n",
    " 'BZ',\n",
    " 'BJ',\n",
    " 'BM',\n",
    " 'BT',\n",
    " 'BO',\n",
    " 'BON:BQ',\n",
    " 'BA',\n",
    " 'BW',\n",
    " 'VG',\n",
    " 'BN',\n",
    " 'BG',\n",
    " 'BF',\n",
    " 'BI',\n",
    " 'KH',\n",
    " 'CM',\n",
    " 'CV',\n",
    " 'BQ',\n",
    " 'KY',\n",
    " 'TD',\n",
    " 'CHIS:GB',\n",
    " 'CL',\n",
    " 'CG',\n",
    " 'CD',\n",
    " 'CK',\n",
    " 'CR',\n",
    " 'HR',\n",
    " 'CW',\n",
    " 'CY',\n",
    " 'DJ',\n",
    " 'DM',\n",
    " 'DO',\n",
    " 'TL',\n",
    " 'EC',\n",
    " 'EG',\n",
    " 'SV',\n",
    " 'ENG:GB',\n",
    " 'ER',\n",
    " 'EE',\n",
    " 'ET',\n",
    " 'FO',\n",
    " 'FJ',\n",
    " 'GF',\n",
    " 'PF',\n",
    " 'GA',\n",
    " 'GM',\n",
    " 'GE',\n",
    " 'GH',\n",
    " 'GI',\n",
    " 'GRCA:KY',\n",
    " 'GRBR:GB',\n",
    " 'GRTH:VG',\n",
    " 'GRTO:VG',\n",
    " 'GL',\n",
    " 'GD',\n",
    " 'GP',\n",
    " 'GT',\n",
    " 'GN',\n",
    " 'GY',\n",
    " 'HT',\n",
    " 'HN',\n",
    " 'HK',\n",
    " 'IS',\n",
    " 'IQ',\n",
    " 'IE',\n",
    " 'IL',\n",
    " 'CI',\n",
    " 'JM',\n",
    " 'JO',\n",
    " 'JVDI:VG',\n",
    " 'KZ',\n",
    " 'KE',\n",
    " 'KW',\n",
    " 'KG',\n",
    " 'LA',\n",
    " 'LV',\n",
    " 'LB',\n",
    " 'LS',\n",
    " 'LR',\n",
    " 'LY',\n",
    " 'LI',\n",
    " 'LT',\n",
    " 'MO',\n",
    " 'MK',\n",
    " 'MG',\n",
    " 'MW',\n",
    " 'MV',\n",
    " 'ML',\n",
    " 'MT',\n",
    " 'MQ',\n",
    " 'MR',\n",
    " 'MU',\n",
    " 'MD',\n",
    " 'MC',\n",
    " 'MN',\n",
    " 'ME',\n",
    " 'MS',\n",
    " 'MA',\n",
    " 'MZ',\n",
    " 'NA',\n",
    " 'NP',\n",
    " 'NC',\n",
    " 'NZ',\n",
    " 'NI',\n",
    " 'NE',\n",
    " 'NG',\n",
    " 'NOIS:VG',\n",
    " 'NOIR:GB',\n",
    " 'OM',\n",
    " 'PK',\n",
    " 'PS',\n",
    " 'PA',\n",
    " 'PG',\n",
    " 'PY',\n",
    " 'PE',\n",
    " 'QA',\n",
    " 'RE',\n",
    " 'RO',\n",
    " 'RW',\n",
    " 'SAB:BQ',\n",
    " 'WS',\n",
    " 'SA',\n",
    " 'SCO:GB',\n",
    " 'SN',\n",
    " 'RS',\n",
    " 'SC',\n",
    " 'SK',\n",
    " 'SI',\n",
    " 'LK',\n",
    " 'STBA:GP',\n",
    " 'STCH:KN',\n",
    " 'STEU:BQ',\n",
    " 'KN',\n",
    " 'LC',\n",
    " 'SX',\n",
    " 'MF',\n",
    " 'VC',\n",
    " 'SR',\n",
    " 'SZ',\n",
    " 'TAH:PF',\n",
    " 'TW',\n",
    " 'TZ',\n",
    " 'TG',\n",
    " 'TO',\n",
    " 'TOIS:VG',\n",
    " 'TT',\n",
    " 'TN',\n",
    " 'TC',\n",
    " 'TV',\n",
    " 'UG',\n",
    " 'UA',\n",
    " 'UNIS:VC', 'AE', 'UY', 'VU', 'VE', 'VN', 'ZM', 'ZW']"
   ]
  },
  {
   "cell_type": "code",
   "execution_count": 178,
   "metadata": {},
   "outputs": [
    {
     "data": {
      "text/plain": [
       "{'AF',\n",
       " 'AL',\n",
       " 'BH',\n",
       " 'KN',\n",
       " 'NI',\n",
       " 'NP',\n",
       " 'PA',\n",
       " 'PE',\n",
       " 'PY',\n",
       " 'QA',\n",
       " 'RW',\n",
       " 'SA',\n",
       " 'SC',\n",
       " 'SN',\n",
       " 'SR',\n",
       " 'TC',\n",
       " 'TG',\n",
       " 'TT',\n",
       " 'TV',\n",
       " 'UG',\n",
       " 'UY',\n",
       " 'ZM'}"
      ]
     },
     "execution_count": 178,
     "metadata": {},
     "output_type": "execute_result"
    }
   ],
   "source": [
    "set(Countries_with_no_postal_code) & set(dhl) & set(fedex)"
   ]
  },
  {
   "cell_type": "code",
   "execution_count": 154,
   "metadata": {},
   "outputs": [
    {
     "data": {
      "text/plain": [
       "116"
      ]
     },
     "execution_count": 154,
     "metadata": {},
     "output_type": "execute_result"
    }
   ],
   "source": [
    "len(Countries_with_no_postal_code)"
   ]
  },
  {
   "cell_type": "code",
   "execution_count": 155,
   "metadata": {},
   "outputs": [
    {
     "data": {
      "text/plain": [
       "['AI',\n",
       " 'AQ',\n",
       " 'AG',\n",
       " 'AR',\n",
       " 'AW',\n",
       " 'AT',\n",
       " 'AZ',\n",
       " 'BH',\n",
       " 'BD',\n",
       " 'BB',\n",
       " 'BY',\n",
       " 'BM',\n",
       " 'BO',\n",
       " 'BQ',\n",
       " 'BG',\n",
       " 'BF',\n",
       " 'CM',\n",
       " 'CA',\n",
       " 'CV',\n",
       " 'CF',\n",
       " 'TD',\n",
       " 'KM',\n",
       " 'CI',\n",
       " 'DK',\n",
       " 'DJ',\n",
       " 'DM',\n",
       " 'EE',\n",
       " 'ET',\n",
       " 'FK',\n",
       " 'FO',\n",
       " 'FI',\n",
       " 'GI',\n",
       " 'GD',\n",
       " 'GG',\n",
       " 'GN',\n",
       " 'GW',\n",
       " 'HT',\n",
       " 'HU',\n",
       " 'IS',\n",
       " 'IQ',\n",
       " 'IE',\n",
       " 'IL',\n",
       " 'IT',\n",
       " 'JM',\n",
       " 'JP',\n",
       " 'KW',\n",
       " 'LB',\n",
       " 'LS',\n",
       " 'LR',\n",
       " 'LY',\n",
       " 'MO',\n",
       " 'MK',\n",
       " 'MG',\n",
       " 'MW',\n",
       " 'MY',\n",
       " 'MV',\n",
       " 'MT',\n",
       " 'MH',\n",
       " 'MU',\n",
       " 'MD',\n",
       " 'ME',\n",
       " 'NR',\n",
       " 'NP',\n",
       " 'NC',\n",
       " 'NZ',\n",
       " 'NE',\n",
       " 'NG',\n",
       " 'NO',\n",
       " 'OM',\n",
       " 'PK',\n",
       " 'PA',\n",
       " 'PG',\n",
       " 'PY',\n",
       " 'PE',\n",
       " 'PH',\n",
       " 'PN',\n",
       " 'PL',\n",
       " 'PR',\n",
       " 'QA',\n",
       " 'KN',\n",
       " 'LC',\n",
       " 'MF',\n",
       " 'PM',\n",
       " 'RS',\n",
       " 'SC',\n",
       " 'SL',\n",
       " 'SG',\n",
       " 'SX',\n",
       " 'SK',\n",
       " 'SB',\n",
       " 'GS',\n",
       " 'KR',\n",
       " 'SS',\n",
       " 'ES',\n",
       " 'LK',\n",
       " 'SR',\n",
       " 'SJ',\n",
       " 'SZ',\n",
       " 'TW',\n",
       " 'TJ',\n",
       " 'TZ',\n",
       " 'TL',\n",
       " 'TG',\n",
       " 'TK',\n",
       " 'TN',\n",
       " 'TV',\n",
       " 'AE',\n",
       " 'GB',\n",
       " 'US',\n",
       " 'UM',\n",
       " 'UY',\n",
       " 'VN',\n",
       " 'WF',\n",
       " 'EH',\n",
       " 'ZW',\n",
       " 'AX']"
      ]
     },
     "execution_count": 155,
     "metadata": {},
     "output_type": "execute_result"
    }
   ],
   "source": [
    "Countries_with_no_postal_code"
   ]
  },
  {
   "cell_type": "code",
   "execution_count": null,
   "metadata": {
    "collapsed": true
   },
   "outputs": [],
   "source": []
  }
 ],
 "metadata": {
  "kernelspec": {
   "display_name": "Python 3",
   "language": "python",
   "name": "python3"
  },
  "language_info": {
   "codemirror_mode": {
    "name": "ipython",
    "version": 3
   },
   "file_extension": ".py",
   "mimetype": "text/x-python",
   "name": "python",
   "nbconvert_exporter": "python",
   "pygments_lexer": "ipython3",
   "version": "3.6.3"
  }
 },
 "nbformat": 4,
 "nbformat_minor": 2
}
